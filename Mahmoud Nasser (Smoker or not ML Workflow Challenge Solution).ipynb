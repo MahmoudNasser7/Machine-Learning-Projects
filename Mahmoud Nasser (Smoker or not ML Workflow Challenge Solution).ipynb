{
 "cells": [
  {
   "cell_type": "markdown",
   "metadata": {
    "id": "SKzBo_NmCSMR"
   },
   "source": [
    "# **Challenge of the Week - ML Workflow**\n",
    "\n",
    "© 2023, Zaka AI, Inc. All Rights Reserved.\n",
    "\n",
    "---\n",
    "\n",
    "## Case Study: Classifying Smokers vs Non Smokers\n",
    "\n",
    "**Objective:**\n",
    "\n",
    "In this challenge, you will work on a dataset that you saw during week 1 but this time with different aspect. Your goal is not only to make a prediction, it is to make a prediction with the best possible way. So you will be building, evaluating, and improving your model.\n",
    "\n",
    "\n",
    "## Dataset Description\n",
    "\n",
    "\n",
    "*   **age**: age of primary beneficiary\n",
    "*   **sex**: insurance contractor gender, female, male\n",
    "*   **bmi**: Body mass index, providing an understanding of body, weights that are relatively high or low relative to height,\n",
    "objective index of body weight (kg / m ^ 2) using the ratio of height to weight, ideally 18.5 to 24.9\n",
    "*   **children**: Number of children covered by health insurance / Number of dependents\n",
    "*   **smoker**: Smoking\n",
    "*   **region**: the beneficiary's residential area in the US, northeast, southeast, southwest, northwest.\n",
    "*   **charges**: Individual medical costs billed by health insurance"
   ]
  },
  {
   "cell_type": "markdown",
   "metadata": {
    "id": "lW2QzRbXR5Ph"
   },
   "source": [
    "Our problem would be to predict if a person is smoker or not based on all the other features in the dataset."
   ]
  },
  {
   "cell_type": "markdown",
   "metadata": {
    "id": "5k7QqVknG5ya"
   },
   "source": [
    "## 1. Data Loading"
   ]
  },
  {
   "cell_type": "markdown",
   "metadata": {
    "id": "GfyJQMOnE_48"
   },
   "source": [
    "#### Import necessary python modules\n",
    "\n",
    "We will need the following libraries:\n",
    " - Numpy — for scientific computing (e.g., linear algebra (vectors & matrices)).\n",
    " - Pandas — providing high-performance, easy-to-use data reading, manipulation, and analysis.\n",
    " - Matplotlib — plotting & visualization.\n",
    " - scikit-learn — a tool for data mining and machine learning models. We need from it train_test_split and LogisticRegression Functions"
   ]
  },
  {
   "cell_type": "code",
   "execution_count": 142,
   "metadata": {
    "id": "u9nnDKPjAfGq"
   },
   "outputs": [],
   "source": [
    "import pandas as pd\n",
    "import numpy as np\n",
    "import matplotlib.pyplot as plt\n",
    "import seaborn as sns\n",
    "from sklearn.preprocessing import LabelEncoder\n",
    "from sklearn.model_selection import train_test_split, GridSearchCV\n",
    "from sklearn.linear_model import LogisticRegression\n",
    "from sklearn.metrics import accuracy_score, precision_score, recall_score, f1_score\n",
    "from imblearn.over_sampling import RandomOverSampler\n",
    "from imblearn.under_sampling import RandomUnderSampler\n",
    "from sklearn.ensemble import AdaBoostClassifier"
   ]
  },
  {
   "cell_type": "markdown",
   "metadata": {
    "id": "4LEivAvUHIE3"
   },
   "source": [
    "#### Read & visualize data\n",
    "To load the data to our code, we use **pandas** module, more specifically, the **read_csv** function. Print the head of your dataset."
   ]
  },
  {
   "cell_type": "code",
   "execution_count": 143,
   "metadata": {
    "id": "_hep8239AzVU"
   },
   "outputs": [
    {
     "data": {
      "text/html": [
       "<div>\n",
       "<style scoped>\n",
       "    .dataframe tbody tr th:only-of-type {\n",
       "        vertical-align: middle;\n",
       "    }\n",
       "\n",
       "    .dataframe tbody tr th {\n",
       "        vertical-align: top;\n",
       "    }\n",
       "\n",
       "    .dataframe thead th {\n",
       "        text-align: right;\n",
       "    }\n",
       "</style>\n",
       "<table border=\"1\" class=\"dataframe\">\n",
       "  <thead>\n",
       "    <tr style=\"text-align: right;\">\n",
       "      <th></th>\n",
       "      <th>age</th>\n",
       "      <th>sex</th>\n",
       "      <th>bmi</th>\n",
       "      <th>children</th>\n",
       "      <th>smoker</th>\n",
       "      <th>region</th>\n",
       "      <th>charges</th>\n",
       "    </tr>\n",
       "  </thead>\n",
       "  <tbody>\n",
       "    <tr>\n",
       "      <th>0</th>\n",
       "      <td>19</td>\n",
       "      <td>female</td>\n",
       "      <td>27.900</td>\n",
       "      <td>0</td>\n",
       "      <td>yes</td>\n",
       "      <td>southwest</td>\n",
       "      <td>16884.92400</td>\n",
       "    </tr>\n",
       "    <tr>\n",
       "      <th>1</th>\n",
       "      <td>18</td>\n",
       "      <td>male</td>\n",
       "      <td>33.770</td>\n",
       "      <td>1</td>\n",
       "      <td>no</td>\n",
       "      <td>southeast</td>\n",
       "      <td>1725.55230</td>\n",
       "    </tr>\n",
       "    <tr>\n",
       "      <th>2</th>\n",
       "      <td>28</td>\n",
       "      <td>male</td>\n",
       "      <td>33.000</td>\n",
       "      <td>3</td>\n",
       "      <td>no</td>\n",
       "      <td>southeast</td>\n",
       "      <td>4449.46200</td>\n",
       "    </tr>\n",
       "    <tr>\n",
       "      <th>3</th>\n",
       "      <td>33</td>\n",
       "      <td>male</td>\n",
       "      <td>22.705</td>\n",
       "      <td>0</td>\n",
       "      <td>no</td>\n",
       "      <td>northwest</td>\n",
       "      <td>21984.47061</td>\n",
       "    </tr>\n",
       "    <tr>\n",
       "      <th>4</th>\n",
       "      <td>32</td>\n",
       "      <td>male</td>\n",
       "      <td>28.880</td>\n",
       "      <td>0</td>\n",
       "      <td>no</td>\n",
       "      <td>northwest</td>\n",
       "      <td>3866.85520</td>\n",
       "    </tr>\n",
       "  </tbody>\n",
       "</table>\n",
       "</div>"
      ],
      "text/plain": [
       "   age     sex     bmi  children smoker     region      charges\n",
       "0   19  female  27.900         0    yes  southwest  16884.92400\n",
       "1   18    male  33.770         1     no  southeast   1725.55230\n",
       "2   28    male  33.000         3     no  southeast   4449.46200\n",
       "3   33    male  22.705         0     no  northwest  21984.47061\n",
       "4   32    male  28.880         0     no  northwest   3866.85520"
      ]
     },
     "execution_count": 143,
     "metadata": {},
     "output_type": "execute_result"
    }
   ],
   "source": [
    "data = pd.read_csv('insurance.csv')\n",
    "data.head()"
   ]
  },
  {
   "cell_type": "markdown",
   "metadata": {
    "id": "qgIxvmAKhiqe"
   },
   "source": [
    "## 2. Exploratory Data Analysis\n",
    "\n",
    "Let's dig deeper & understand our data"
   ]
  },
  {
   "cell_type": "markdown",
   "metadata": {
    "id": "LbXDTkiQhzwq"
   },
   "source": [
    "**Task:** how many rows & columns in our dataset"
   ]
  },
  {
   "cell_type": "code",
   "execution_count": 144,
   "metadata": {
    "id": "nUf0K_SMh1og"
   },
   "outputs": [
    {
     "name": "stdout",
     "output_type": "stream",
     "text": [
      "There are 1338 rows and 7 columns in our dataset.\n"
     ]
    }
   ],
   "source": [
    "rows = data.shape[0]\n",
    "columns = data.shape[1]\n",
    "print('There are {} rows and {} columns in our dataset.'.format(rows,columns))"
   ]
  },
  {
   "cell_type": "markdown",
   "metadata": {
    "id": "rPqsS9S2B2M4"
   },
   "source": [
    "Using the function **info()**, we can check:\n",
    " - data types (int, float, or object (e.g., string))\n",
    " - missing values\n",
    " - memory usage\n",
    " - number of rows and columns"
   ]
  },
  {
   "cell_type": "code",
   "execution_count": 145,
   "metadata": {
    "id": "exWsHvXSA7nz"
   },
   "outputs": [
    {
     "name": "stdout",
     "output_type": "stream",
     "text": [
      "<class 'pandas.core.frame.DataFrame'>\n",
      "RangeIndex: 1338 entries, 0 to 1337\n",
      "Data columns (total 7 columns):\n",
      " #   Column    Non-Null Count  Dtype  \n",
      "---  ------    --------------  -----  \n",
      " 0   age       1338 non-null   int64  \n",
      " 1   sex       1338 non-null   object \n",
      " 2   bmi       1335 non-null   float64\n",
      " 3   children  1338 non-null   int64  \n",
      " 4   smoker    1338 non-null   object \n",
      " 5   region    1338 non-null   object \n",
      " 6   charges   1338 non-null   float64\n",
      "dtypes: float64(2), int64(2), object(3)\n",
      "memory usage: 73.3+ KB\n"
     ]
    }
   ],
   "source": [
    "data.info()"
   ]
  },
  {
   "cell_type": "markdown",
   "metadata": {
    "id": "Kt2KsZa2B63T"
   },
   "source": [
    "Using the function **describe()**, we can check the mean, standard deviation, maximum, and minimum of each numerical feature (column)"
   ]
  },
  {
   "cell_type": "code",
   "execution_count": 146,
   "metadata": {
    "id": "pifR8QwkA-DW"
   },
   "outputs": [
    {
     "data": {
      "text/html": [
       "<div>\n",
       "<style scoped>\n",
       "    .dataframe tbody tr th:only-of-type {\n",
       "        vertical-align: middle;\n",
       "    }\n",
       "\n",
       "    .dataframe tbody tr th {\n",
       "        vertical-align: top;\n",
       "    }\n",
       "\n",
       "    .dataframe thead th {\n",
       "        text-align: right;\n",
       "    }\n",
       "</style>\n",
       "<table border=\"1\" class=\"dataframe\">\n",
       "  <thead>\n",
       "    <tr style=\"text-align: right;\">\n",
       "      <th></th>\n",
       "      <th>age</th>\n",
       "      <th>bmi</th>\n",
       "      <th>children</th>\n",
       "      <th>charges</th>\n",
       "    </tr>\n",
       "  </thead>\n",
       "  <tbody>\n",
       "    <tr>\n",
       "      <th>count</th>\n",
       "      <td>1338.000000</td>\n",
       "      <td>1335.000000</td>\n",
       "      <td>1338.000000</td>\n",
       "      <td>1338.000000</td>\n",
       "    </tr>\n",
       "    <tr>\n",
       "      <th>mean</th>\n",
       "      <td>39.207025</td>\n",
       "      <td>30.661423</td>\n",
       "      <td>1.094918</td>\n",
       "      <td>13270.422265</td>\n",
       "    </tr>\n",
       "    <tr>\n",
       "      <th>std</th>\n",
       "      <td>14.049960</td>\n",
       "      <td>6.101038</td>\n",
       "      <td>1.205493</td>\n",
       "      <td>12110.011237</td>\n",
       "    </tr>\n",
       "    <tr>\n",
       "      <th>min</th>\n",
       "      <td>18.000000</td>\n",
       "      <td>15.960000</td>\n",
       "      <td>0.000000</td>\n",
       "      <td>1121.873900</td>\n",
       "    </tr>\n",
       "    <tr>\n",
       "      <th>25%</th>\n",
       "      <td>27.000000</td>\n",
       "      <td>26.302500</td>\n",
       "      <td>0.000000</td>\n",
       "      <td>4740.287150</td>\n",
       "    </tr>\n",
       "    <tr>\n",
       "      <th>50%</th>\n",
       "      <td>39.000000</td>\n",
       "      <td>30.400000</td>\n",
       "      <td>1.000000</td>\n",
       "      <td>9382.033000</td>\n",
       "    </tr>\n",
       "    <tr>\n",
       "      <th>75%</th>\n",
       "      <td>51.000000</td>\n",
       "      <td>34.687500</td>\n",
       "      <td>2.000000</td>\n",
       "      <td>16639.912515</td>\n",
       "    </tr>\n",
       "    <tr>\n",
       "      <th>max</th>\n",
       "      <td>64.000000</td>\n",
       "      <td>53.130000</td>\n",
       "      <td>5.000000</td>\n",
       "      <td>63770.428010</td>\n",
       "    </tr>\n",
       "  </tbody>\n",
       "</table>\n",
       "</div>"
      ],
      "text/plain": [
       "               age          bmi     children       charges\n",
       "count  1338.000000  1335.000000  1338.000000   1338.000000\n",
       "mean     39.207025    30.661423     1.094918  13270.422265\n",
       "std      14.049960     6.101038     1.205493  12110.011237\n",
       "min      18.000000    15.960000     0.000000   1121.873900\n",
       "25%      27.000000    26.302500     0.000000   4740.287150\n",
       "50%      39.000000    30.400000     1.000000   9382.033000\n",
       "75%      51.000000    34.687500     2.000000  16639.912515\n",
       "max      64.000000    53.130000     5.000000  63770.428010"
      ]
     },
     "execution_count": 146,
     "metadata": {},
     "output_type": "execute_result"
    }
   ],
   "source": [
    "data.describe()"
   ]
  },
  {
   "cell_type": "markdown",
   "metadata": {
    "id": "-C6DoqLJkZaJ"
   },
   "source": [
    "#### Data Imbalance Checking\n",
    "\n",
    "First, let's see how many smokers vs non-smokers we have."
   ]
  },
  {
   "cell_type": "code",
   "execution_count": 147,
   "metadata": {
    "id": "2bYxq0B4m4eg"
   },
   "outputs": [
    {
     "data": {
      "text/plain": [
       "no     1064\n",
       "yes     274\n",
       "Name: smoker, dtype: int64"
      ]
     },
     "execution_count": 147,
     "metadata": {},
     "output_type": "execute_result"
    }
   ],
   "source": [
    "data['smoker'].value_counts()"
   ]
  },
  {
   "cell_type": "markdown",
   "metadata": {
    "id": "ubd9V3ulRbqY"
   },
   "source": [
    "We have an imbalance that we will fix later."
   ]
  },
  {
   "cell_type": "markdown",
   "metadata": {
    "id": "yzGzI6TbaSbB"
   },
   "source": [
    "Let's see how much each feature tells us about a person being  a smoker or not.\n",
    "For each of your numerical features, plot the distribution for the smokers and the non smokers case."
   ]
  },
  {
   "cell_type": "code",
   "execution_count": 148,
   "metadata": {},
   "outputs": [],
   "source": [
    "#loading seaborn's default theme\n",
    "sns.set()"
   ]
  },
  {
   "cell_type": "code",
   "execution_count": 149,
   "metadata": {
    "id": "albiV9oTXWye"
   },
   "outputs": [
    {
     "data": {
      "image/png": "[encoded data removed]",
      "text/plain": [
       "<Figure size 1600x1200 with 4 Axes>"
      ]
     },
     "metadata": {},
     "output_type": "display_data"
    }
   ],
   "source": [
    "fig, axes = plt.subplots(2, 2, figsize=(16, 12))\n",
    "\n",
    "sns.histplot(data=data, x='age', hue='smoker', ax=axes[0, 0])\n",
    "axes[0, 0].set_title('Age Distribution for Smokers vs Non Smokers')\n",
    "sns.histplot(data=data, x='bmi', hue='smoker', ax=axes[0, 1])\n",
    "axes[0, 1].set_title('BMI Distribution for Smokers vs Non Smokers')\n",
    "sns.histplot(data=data, x='children', hue='smoker', ax=axes[1, 0])\n",
    "axes[1, 0].set_title('Children Distribution for Smokers vs Non Smokers')\n",
    "sns.histplot(data=data, x='charges', hue='smoker', ax=axes[1, 1])\n",
    "axes[1, 1].set_title('Charges Distribution for Smokers vs Non Smokers')\n",
    "\n",
    "plt.show()"
   ]
  },
  {
   "cell_type": "markdown",
   "metadata": {
    "id": "YWa8eagVZwLg"
   },
   "source": [
    "WHat do you think is the feature that tells us the most about a person being smoker or not?"
   ]
  },
  {
   "cell_type": "markdown",
   "metadata": {
    "id": "u35V2azRs1Zs"
   },
   "source": [
    "**Charges feature.**"
   ]
  },
  {
   "cell_type": "markdown",
   "metadata": {
    "id": "5gjS7Ss5aji3"
   },
   "source": [
    "Now let's see if the gender influences being a smoker or not.\n",
    "<br>Hint: You can use crosstabbing and then plot distributions"
   ]
  },
  {
   "cell_type": "code",
   "execution_count": 150,
   "metadata": {
    "id": "defv0Lx4aqDy"
   },
   "outputs": [
    {
     "data": {
      "image/png": "[encoded data removed]",
      "text/plain": [
       "<Figure size 640x480 with 1 Axes>"
      ]
     },
     "metadata": {},
     "output_type": "display_data"
    }
   ],
   "source": [
    "pd.crosstab(data['sex'], data['smoker']).plot(kind='bar')\n",
    "plt.title('Gender Distribution for Smokers vs Non Smokers')\n",
    "plt.xlabel('Gender')\n",
    "plt.ylabel('Count')\n",
    "plt.show()"
   ]
  },
  {
   "cell_type": "markdown",
   "metadata": {
    "id": "PELhantCbEGV"
   },
   "source": [
    "Do you think the gender has an effect on smoking according to your results?"
   ]
  },
  {
   "cell_type": "markdown",
   "metadata": {
    "id": "BbuCA54aumYz"
   },
   "source": [
    "**No.**"
   ]
  },
  {
   "cell_type": "markdown",
   "metadata": {
    "id": "nNG_bxWkuvkI"
   },
   "source": [
    "Do the same for the column 'region'"
   ]
  },
  {
   "cell_type": "code",
   "execution_count": 151,
   "metadata": {
    "id": "RteNFVg-b-lj"
   },
   "outputs": [
    {
     "data": {
      "image/png": "[encoded data removed]",
      "text/plain": [
       "<Figure size 640x480 with 1 Axes>"
      ]
     },
     "metadata": {},
     "output_type": "display_data"
    }
   ],
   "source": [
    "pd.crosstab(data['region'], data['smoker']).plot(kind='bar')\n",
    "plt.title('Region Distribution for Smokers vs Non Smokers')\n",
    "plt.xlabel('Region')\n",
    "plt.ylabel('Count')\n",
    "plt.show()"
   ]
  },
  {
   "cell_type": "markdown",
   "metadata": {
    "id": "g3X3fDBXnX16"
   },
   "source": [
    "## 3. Data Preprocessing\n",
    "\"Garbage in, garbage out\".\n",
    "\n",
    "Data should be preprocessed and cleaned to get rid of noisy data.\n",
    "Preprocessing includes:\n",
    " - dealing with missing data\n",
    "   - remove whole rows (if they are not a lot)\n",
    "   - infer (e.g., date of birth & age)\n",
    "   - fill with mean, median, or even 0\n",
    " - removing unsued column(s)\n",
    " - convert categorical (non numerical) data into numerical\n",
    " - normalization: standarize data ranges for all features (e.g., between 0 and 1)\n",
    "\n",
    "\n",
    "\n",
    "---\n",
    "\n",
    "\n",
    "\n",
    " Let's start by seeing if we have missing data."
   ]
  },
  {
   "cell_type": "code",
   "execution_count": 152,
   "metadata": {
    "id": "mslOEw7wmf_N"
   },
   "outputs": [
    {
     "data": {
      "text/plain": [
       "age         0\n",
       "sex         0\n",
       "bmi         3\n",
       "children    0\n",
       "smoker      0\n",
       "region      0\n",
       "charges     0\n",
       "dtype: int64"
      ]
     },
     "execution_count": 152,
     "metadata": {},
     "output_type": "execute_result"
    }
   ],
   "source": [
    "data.isnull().sum()"
   ]
  },
  {
   "cell_type": "markdown",
   "metadata": {
    "id": "2nC4WKW5u_Ka"
   },
   "source": [
    "Drop rows with missing values, and make sure you have no nulls anymore."
   ]
  },
  {
   "cell_type": "code",
   "execution_count": 153,
   "metadata": {
    "id": "ZXvduiy1nckz"
   },
   "outputs": [
    {
     "data": {
      "text/plain": [
       "age         0\n",
       "sex         0\n",
       "bmi         0\n",
       "children    0\n",
       "smoker      0\n",
       "region      0\n",
       "charges     0\n",
       "dtype: int64"
      ]
     },
     "execution_count": 153,
     "metadata": {},
     "output_type": "execute_result"
    }
   ],
   "source": [
    "data = data.dropna()\n",
    "data.isnull().sum()"
   ]
  },
  {
   "cell_type": "markdown",
   "metadata": {
    "id": "T0_-xq9PvHFF"
   },
   "source": [
    "See the type of each of your columns"
   ]
  },
  {
   "cell_type": "code",
   "execution_count": 154,
   "metadata": {
    "id": "bSEzYUz-nevs"
   },
   "outputs": [
    {
     "name": "stdout",
     "output_type": "stream",
     "text": [
      "<class 'pandas.core.frame.DataFrame'>\n",
      "Int64Index: 1335 entries, 0 to 1337\n",
      "Data columns (total 7 columns):\n",
      " #   Column    Non-Null Count  Dtype  \n",
      "---  ------    --------------  -----  \n",
      " 0   age       1335 non-null   int64  \n",
      " 1   sex       1335 non-null   object \n",
      " 2   bmi       1335 non-null   float64\n",
      " 3   children  1335 non-null   int64  \n",
      " 4   smoker    1335 non-null   object \n",
      " 5   region    1335 non-null   object \n",
      " 6   charges   1335 non-null   float64\n",
      "dtypes: float64(2), int64(2), object(3)\n",
      "memory usage: 83.4+ KB\n"
     ]
    }
   ],
   "source": [
    "data.info()"
   ]
  },
  {
   "cell_type": "markdown",
   "metadata": {
    "id": "VGcXlEP6ryIZ"
   },
   "source": [
    "#### Convert Categorical columns to numerical\n",
    "\n",
    "*   We need to convert the sex column from male/female to 0/1.\n",
    "*   We need to convert the smoker column from no/yes to 0/1.\n",
    "\n",
    "\n",
    "Let's start with the sex column\n",
    "\n"
   ]
  },
  {
   "cell_type": "code",
   "execution_count": 155,
   "metadata": {
    "id": "cpEbrz7HnfuY"
   },
   "outputs": [
    {
     "data": {
      "text/plain": [
       "0    674\n",
       "1    661\n",
       "Name: sex, dtype: int64"
      ]
     },
     "execution_count": 155,
     "metadata": {},
     "output_type": "execute_result"
    }
   ],
   "source": [
    "data.replace({'sex':{'male':0, 'female':1}}, inplace=True)\n",
    "data['sex'].value_counts()"
   ]
  },
  {
   "cell_type": "markdown",
   "metadata": {
    "id": "AuX-fpHesgmi"
   },
   "source": [
    "And now the smokers column"
   ]
  },
  {
   "cell_type": "code",
   "execution_count": 156,
   "metadata": {
    "id": "LfU8gCe7sCDS"
   },
   "outputs": [
    {
     "data": {
      "text/plain": [
       "0    1061\n",
       "1     274\n",
       "Name: smoker, dtype: int64"
      ]
     },
     "execution_count": 156,
     "metadata": {},
     "output_type": "execute_result"
    }
   ],
   "source": [
    "encoder = LabelEncoder()\n",
    "data['smoker'] = encoder.fit_transform(data['smoker'])\n",
    "data['smoker'].value_counts()"
   ]
  },
  {
   "cell_type": "markdown",
   "metadata": {
    "id": "7ovM89R-eYCi"
   },
   "source": [
    "And now the Region Column"
   ]
  },
  {
   "cell_type": "code",
   "execution_count": 157,
   "metadata": {
    "id": "Ug0gruFnebxI"
   },
   "outputs": [
    {
     "data": {
      "text/plain": [
       "2    364\n",
       "1    324\n",
       "0    324\n",
       "3    323\n",
       "Name: region, dtype: int64"
      ]
     },
     "execution_count": 157,
     "metadata": {},
     "output_type": "execute_result"
    }
   ],
   "source": [
    "data['region'] = encoder.fit_transform(data['region'])\n",
    "data['region'].value_counts()"
   ]
  },
  {
   "cell_type": "markdown",
   "metadata": {
    "id": "uwfqKXYftiS-"
   },
   "source": [
    "#### Normalization\n",
    "\n",
    "Let's scale all the columns by dividing by the maximum"
   ]
  },
  {
   "cell_type": "code",
   "execution_count": 158,
   "metadata": {
    "id": "hJrBAhytsq8c"
   },
   "outputs": [
    {
     "data": {
      "text/html": [
       "<div>\n",
       "<style scoped>\n",
       "    .dataframe tbody tr th:only-of-type {\n",
       "        vertical-align: middle;\n",
       "    }\n",
       "\n",
       "    .dataframe tbody tr th {\n",
       "        vertical-align: top;\n",
       "    }\n",
       "\n",
       "    .dataframe thead th {\n",
       "        text-align: right;\n",
       "    }\n",
       "</style>\n",
       "<table border=\"1\" class=\"dataframe\">\n",
       "  <thead>\n",
       "    <tr style=\"text-align: right;\">\n",
       "      <th></th>\n",
       "      <th>age</th>\n",
       "      <th>sex</th>\n",
       "      <th>bmi</th>\n",
       "      <th>children</th>\n",
       "      <th>smoker</th>\n",
       "      <th>region</th>\n",
       "      <th>charges</th>\n",
       "    </tr>\n",
       "  </thead>\n",
       "  <tbody>\n",
       "    <tr>\n",
       "      <th>count</th>\n",
       "      <td>1335.000000</td>\n",
       "      <td>1335.000000</td>\n",
       "      <td>1335.000000</td>\n",
       "      <td>1335.000000</td>\n",
       "      <td>1335.000000</td>\n",
       "      <td>1335.000000</td>\n",
       "      <td>1335.000000</td>\n",
       "    </tr>\n",
       "    <tr>\n",
       "      <th>mean</th>\n",
       "      <td>0.612441</td>\n",
       "      <td>0.495131</td>\n",
       "      <td>0.577102</td>\n",
       "      <td>0.219476</td>\n",
       "      <td>0.205243</td>\n",
       "      <td>0.504619</td>\n",
       "      <td>0.208299</td>\n",
       "    </tr>\n",
       "    <tr>\n",
       "      <th>std</th>\n",
       "      <td>0.219491</td>\n",
       "      <td>0.500164</td>\n",
       "      <td>0.114832</td>\n",
       "      <td>0.241145</td>\n",
       "      <td>0.404031</td>\n",
       "      <td>0.368180</td>\n",
       "      <td>0.190041</td>\n",
       "    </tr>\n",
       "    <tr>\n",
       "      <th>min</th>\n",
       "      <td>0.281250</td>\n",
       "      <td>0.000000</td>\n",
       "      <td>0.300395</td>\n",
       "      <td>0.000000</td>\n",
       "      <td>0.000000</td>\n",
       "      <td>0.000000</td>\n",
       "      <td>0.017592</td>\n",
       "    </tr>\n",
       "    <tr>\n",
       "      <th>25%</th>\n",
       "      <td>0.421875</td>\n",
       "      <td>0.000000</td>\n",
       "      <td>0.495059</td>\n",
       "      <td>0.000000</td>\n",
       "      <td>0.000000</td>\n",
       "      <td>0.333333</td>\n",
       "      <td>0.074365</td>\n",
       "    </tr>\n",
       "    <tr>\n",
       "      <th>50%</th>\n",
       "      <td>0.609375</td>\n",
       "      <td>0.000000</td>\n",
       "      <td>0.572181</td>\n",
       "      <td>0.200000</td>\n",
       "      <td>0.000000</td>\n",
       "      <td>0.666667</td>\n",
       "      <td>0.147187</td>\n",
       "    </tr>\n",
       "    <tr>\n",
       "      <th>75%</th>\n",
       "      <td>0.796875</td>\n",
       "      <td>1.000000</td>\n",
       "      <td>0.652880</td>\n",
       "      <td>0.400000</td>\n",
       "      <td>0.000000</td>\n",
       "      <td>0.666667</td>\n",
       "      <td>0.262144</td>\n",
       "    </tr>\n",
       "    <tr>\n",
       "      <th>max</th>\n",
       "      <td>1.000000</td>\n",
       "      <td>1.000000</td>\n",
       "      <td>1.000000</td>\n",
       "      <td>1.000000</td>\n",
       "      <td>1.000000</td>\n",
       "      <td>1.000000</td>\n",
       "      <td>1.000000</td>\n",
       "    </tr>\n",
       "  </tbody>\n",
       "</table>\n",
       "</div>"
      ],
      "text/plain": [
       "               age          sex          bmi     children       smoker  \\\n",
       "count  1335.000000  1335.000000  1335.000000  1335.000000  1335.000000   \n",
       "mean      0.612441     0.495131     0.577102     0.219476     0.205243   \n",
       "std       0.219491     0.500164     0.114832     0.241145     0.404031   \n",
       "min       0.281250     0.000000     0.300395     0.000000     0.000000   \n",
       "25%       0.421875     0.000000     0.495059     0.000000     0.000000   \n",
       "50%       0.609375     0.000000     0.572181     0.200000     0.000000   \n",
       "75%       0.796875     1.000000     0.652880     0.400000     0.000000   \n",
       "max       1.000000     1.000000     1.000000     1.000000     1.000000   \n",
       "\n",
       "            region      charges  \n",
       "count  1335.000000  1335.000000  \n",
       "mean      0.504619     0.208299  \n",
       "std       0.368180     0.190041  \n",
       "min       0.000000     0.017592  \n",
       "25%       0.333333     0.074365  \n",
       "50%       0.666667     0.147187  \n",
       "75%       0.666667     0.262144  \n",
       "max       1.000000     1.000000  "
      ]
     },
     "execution_count": 158,
     "metadata": {},
     "output_type": "execute_result"
    }
   ],
   "source": [
    "data = data.divide(data.max())\n",
    "data.describe()"
   ]
  },
  {
   "cell_type": "markdown",
   "metadata": {
    "id": "nwQPUuGy8vmw"
   },
   "source": [
    "## 4. Model Training & Testing\n",
    "\n"
   ]
  },
  {
   "cell_type": "markdown",
   "metadata": {
    "id": "LTNYhHSpHezL"
   },
   "source": [
    "#### Data splits\n",
    "\n",
    "Before training, we need to split data into training (80%) & testing (20%), and fix the random_state parameter to 42 <br>Print the shapes of your training and testing data."
   ]
  },
  {
   "cell_type": "code",
   "execution_count": 159,
   "metadata": {
    "id": "5n3DqBUG892K"
   },
   "outputs": [
    {
     "name": "stdout",
     "output_type": "stream",
     "text": [
      "(1068, 6) (1068,)\n",
      "(267, 6) (267,)\n"
     ]
    }
   ],
   "source": [
    "X = data.drop('smoker', axis=1)\n",
    "y = data['smoker']\n",
    "\n",
    "X_train, X_test, y_train, y_test = train_test_split(X, y, test_size=0.2, random_state=42)\n",
    "\n",
    "print(X_train.shape, y_train.shape)\n",
    "print(X_test.shape, y_test.shape)"
   ]
  },
  {
   "cell_type": "markdown",
   "metadata": {
    "id": "7dPqqZiT97Eg"
   },
   "source": [
    "#### Logistic Regression Modeling\n"
   ]
  },
  {
   "cell_type": "markdown",
   "metadata": {
    "id": "hRNys9cPvr4W"
   },
   "source": [
    "Define the logistic Regression model, and fit it on the training data"
   ]
  },
  {
   "cell_type": "code",
   "execution_count": 160,
   "metadata": {
    "id": "CYUD8wNF9bm3"
   },
   "outputs": [
    {
     "data": {
      "text/html": [
       "<style>#sk-container-id-11 {color: black;background-color: white;}#sk-container-id-11 pre{padding: 0;}#sk-container-id-11 div.sk-toggleable {background-color: white;}#sk-container-id-11 label.sk-toggleable__label {cursor: pointer;display: block;width: 100%;margin-bottom: 0;padding: 0.3em;box-sizing: border-box;text-align: center;}#sk-container-id-11 label.sk-toggleable__label-arrow:before {content: \"▸\";float: left;margin-right: 0.25em;color: #696969;}#sk-container-id-11 label.sk-toggleable__label-arrow:hover:before {color: black;}#sk-container-id-11 div.sk-estimator:hover label.sk-toggleable__label-arrow:before {color: black;}#sk-container-id-11 div.sk-toggleable__content {max-height: 0;max-width: 0;overflow: hidden;text-align: left;background-color: #f0f8ff;}#sk-container-id-11 div.sk-toggleable__content pre {margin: 0.2em;color: black;border-radius: 0.25em;background-color: #f0f8ff;}#sk-container-id-11 input.sk-toggleable__control:checked~div.sk-toggleable__content {max-height: 200px;max-width: 100%;overflow: auto;}#sk-container-id-11 input.sk-toggleable__control:checked~label.sk-toggleable__label-arrow:before {content: \"▾\";}#sk-container-id-11 div.sk-estimator input.sk-toggleable__control:checked~label.sk-toggleable__label {background-color: #d4ebff;}#sk-container-id-11 div.sk-label input.sk-toggleable__control:checked~label.sk-toggleable__label {background-color: #d4ebff;}#sk-container-id-11 input.sk-hidden--visually {border: 0;clip: rect(1px 1px 1px 1px);clip: rect(1px, 1px, 1px, 1px);height: 1px;margin: -1px;overflow: hidden;padding: 0;position: absolute;width: 1px;}#sk-container-id-11 div.sk-estimator {font-family: monospace;background-color: #f0f8ff;border: 1px dotted black;border-radius: 0.25em;box-sizing: border-box;margin-bottom: 0.5em;}#sk-container-id-11 div.sk-estimator:hover {background-color: #d4ebff;}#sk-container-id-11 div.sk-parallel-item::after {content: \"\";width: 100%;border-bottom: 1px solid gray;flex-grow: 1;}#sk-container-id-11 div.sk-label:hover label.sk-toggleable__label {background-color: #d4ebff;}#sk-container-id-11 div.sk-serial::before {content: \"\";position: absolute;border-left: 1px solid gray;box-sizing: border-box;top: 0;bottom: 0;left: 50%;z-index: 0;}#sk-container-id-11 div.sk-serial {display: flex;flex-direction: column;align-items: center;background-color: white;padding-right: 0.2em;padding-left: 0.2em;position: relative;}#sk-container-id-11 div.sk-item {position: relative;z-index: 1;}#sk-container-id-11 div.sk-parallel {display: flex;align-items: stretch;justify-content: center;background-color: white;position: relative;}#sk-container-id-11 div.sk-item::before, #sk-container-id-11 div.sk-parallel-item::before {content: \"\";position: absolute;border-left: 1px solid gray;box-sizing: border-box;top: 0;bottom: 0;left: 50%;z-index: -1;}#sk-container-id-11 div.sk-parallel-item {display: flex;flex-direction: column;z-index: 1;position: relative;background-color: white;}#sk-container-id-11 div.sk-parallel-item:first-child::after {align-self: flex-end;width: 50%;}#sk-container-id-11 div.sk-parallel-item:last-child::after {align-self: flex-start;width: 50%;}#sk-container-id-11 div.sk-parallel-item:only-child::after {width: 0;}#sk-container-id-11 div.sk-dashed-wrapped {border: 1px dashed gray;margin: 0 0.4em 0.5em 0.4em;box-sizing: border-box;padding-bottom: 0.4em;background-color: white;}#sk-container-id-11 div.sk-label label {font-family: monospace;font-weight: bold;display: inline-block;line-height: 1.2em;}#sk-container-id-11 div.sk-label-container {text-align: center;}#sk-container-id-11 div.sk-container {/* jupyter's `normalize.less` sets `[hidden] { display: none; }` but bootstrap.min.css set `[hidden] { display: none !important; }` so we also need the `!important` here to be able to override the default hidden behavior on the sphinx rendered scikit-learn.org. See: https://github.com/scikit-learn/scikit-learn/issues/21755 */display: inline-block !important;position: relative;}#sk-container-id-11 div.sk-text-repr-fallback {display: none;}</style><div id=\"sk-container-id-11\" class=\"sk-top-container\"><div class=\"sk-text-repr-fallback\"><pre>LogisticRegression()</pre><b>In a Jupyter environment, please rerun this cell to show the HTML representation or trust the notebook. <br />On GitHub, the HTML representation is unable to render, please try loading this page with nbviewer.org.</b></div><div class=\"sk-container\" hidden><div class=\"sk-item\"><div class=\"sk-estimator sk-toggleable\"><input class=\"sk-toggleable__control sk-hidden--visually\" id=\"sk-estimator-id-11\" type=\"checkbox\" checked><label for=\"sk-estimator-id-11\" class=\"sk-toggleable__label sk-toggleable__label-arrow\">LogisticRegression</label><div class=\"sk-toggleable__content\"><pre>LogisticRegression()</pre></div></div></div></div></div>"
      ],
      "text/plain": [
       "LogisticRegression()"
      ]
     },
     "execution_count": 160,
     "metadata": {},
     "output_type": "execute_result"
    }
   ],
   "source": [
    "model = LogisticRegression()\n",
    "model.fit(X_train.values,y_train.values)"
   ]
  },
  {
   "cell_type": "markdown",
   "metadata": {
    "id": "8KIBXHUKHijy"
   },
   "source": [
    "#### Evaluation"
   ]
  },
  {
   "cell_type": "markdown",
   "metadata": {
    "id": "Wxz6PsUGv0gB"
   },
   "source": [
    "Evaluate your model on the testing data, and compute: Accuracy, Precision, Recall and F1 score"
   ]
  },
  {
   "cell_type": "code",
   "execution_count": 161,
   "metadata": {
    "id": "jEhqbtbCHmg8"
   },
   "outputs": [
    {
     "name": "stdout",
     "output_type": "stream",
     "text": [
      "Accuracy : 0.898876404494382\n",
      "Precision : 0.9523809523809523\n",
      "Recall : 0.6153846153846154\n",
      "F1 score : 0.7476635514018692\n"
     ]
    },
    {
     "name": "stderr",
     "output_type": "stream",
     "text": [
      "C:\\Users\\Jerichoyasha\\anaconda3\\Lib\\site-packages\\sklearn\\base.py:432: UserWarning: X has feature names, but LogisticRegression was fitted without feature names\n",
      "  warnings.warn(\n"
     ]
    }
   ],
   "source": [
    "y_pred = model.predict(X_test)\n",
    "\n",
    "accuracy = accuracy_score(y_test, y_pred)\n",
    "precision = precision_score(y_test, y_pred)\n",
    "recall = recall_score(y_test, y_pred)\n",
    "f1 = f1_score(y_test, y_pred)\n",
    "\n",
    "print('Accuracy : {}\\nPrecision : {}\\nRecall : {}\\nF1 score : {}'.format(accuracy, precision, recall, f1))"
   ]
  },
  {
   "cell_type": "markdown",
   "metadata": {
    "id": "HTuXCuF4kJKX"
   },
   "source": [
    "Which metrics you think can be improved?"
   ]
  },
  {
   "cell_type": "markdown",
   "metadata": {
    "id": "0v1qLhLJwJ6y"
   },
   "source": [
    "**We can improve the Accuracy, Recall and F1 score metrics.**"
   ]
  },
  {
   "cell_type": "markdown",
   "metadata": {
    "id": "GvDITkSAj1GI"
   },
   "source": [
    "##5. Model Improvement"
   ]
  },
  {
   "cell_type": "markdown",
   "metadata": {
    "id": "kEQegNwxkE4t"
   },
   "source": [
    "Now we will try to improve the model that we built."
   ]
  },
  {
   "cell_type": "markdown",
   "metadata": {
    "id": "muAmLM-Hmpv0"
   },
   "source": [
    "####Handle data Imbalance"
   ]
  },
  {
   "cell_type": "markdown",
   "metadata": {
    "id": "apVdsILUwUUn"
   },
   "source": [
    "Plot a histogram that shows the numbers of smokers and non smokers"
   ]
  },
  {
   "cell_type": "code",
   "execution_count": 162,
   "metadata": {
    "id": "1KMyylha2Y-g"
   },
   "outputs": [
    {
     "data": {
      "image/png": "[encoded data removed]",
      "text/plain": [
       "<Figure size 900x600 with 1 Axes>"
      ]
     },
     "metadata": {},
     "output_type": "display_data"
    }
   ],
   "source": [
    "plt.figure(figsize=(9, 6))\n",
    "sns.histplot(y)\n",
    "plt.title('Smokers vs Non_Smokers Distribution')\n",
    "plt.show()"
   ]
  },
  {
   "cell_type": "markdown",
   "metadata": {
    "id": "9MzV8OJ5m03J"
   },
   "source": [
    "We can see that we have a clearly imbalanced dataset. To handle it, we choose to do 2 steps:\n",
    "* Oversampling the minority class with a factor of 0.5\n",
    "* Undersampling the majority class to obtain the same number in the 2 classes\n",
    "<br>\n",
    "We do that by using the RandomOverSaampler and RandomUnderSampler from the imblearn library."
   ]
  },
  {
   "cell_type": "code",
   "execution_count": 163,
   "metadata": {
    "id": "9-ZRF4gMnjuf"
   },
   "outputs": [],
   "source": [
    "over = RandomOverSampler(sampling_strategy=0.5)\n",
    "X, y = over.fit_resample(X, y)\n",
    "\n",
    "under = RandomUnderSampler(sampling_strategy=1)\n",
    "X, y = under.fit_resample(X, y)"
   ]
  },
  {
   "cell_type": "markdown",
   "metadata": {
    "id": "J-_mELCkwgnR"
   },
   "source": [
    "Plot a new histogram on the new data we have."
   ]
  },
  {
   "cell_type": "code",
   "execution_count": 164,
   "metadata": {
    "id": "WjVUHgi_ou-g"
   },
   "outputs": [
    {
     "data": {
      "image/png": "[encoded data removed]",
      "text/plain": [
       "<Figure size 900x600 with 1 Axes>"
      ]
     },
     "metadata": {},
     "output_type": "display_data"
    }
   ],
   "source": [
    "plt.figure(figsize=(9, 6))\n",
    "sns.histplot(y)\n",
    "plt.title('Smokers vs Non_Smokers Distribution')\n",
    "plt.show()"
   ]
  },
  {
   "cell_type": "markdown",
   "metadata": {
    "id": "jZx2-2mawnhU"
   },
   "source": [
    "Split the new data you obtained (80%, 20%), and build a Logistic Regression mode, and fit it on this data. Fix the random_state at 42"
   ]
  },
  {
   "cell_type": "code",
   "execution_count": 165,
   "metadata": {
    "id": "Z_z-8P_io7GK"
   },
   "outputs": [
    {
     "name": "stdout",
     "output_type": "stream",
     "text": [
      "(848, 6) (848,)\n",
      "(212, 6) (212,)\n"
     ]
    }
   ],
   "source": [
    "X_train, X_test, y_train, y_test = train_test_split(X, y, test_size=0.2, random_state=42)\n",
    "\n",
    "print(X_train.shape, y_train.shape)\n",
    "print(X_test.shape, y_test.shape)"
   ]
  },
  {
   "cell_type": "markdown",
   "metadata": {
    "id": "igAMMumCw53W"
   },
   "source": [
    "Asses your model on the testing data, and Compute the same metrics you computed before"
   ]
  },
  {
   "cell_type": "code",
   "execution_count": 166,
   "metadata": {
    "id": "q6pV29t-pcFm"
   },
   "outputs": [
    {
     "name": "stdout",
     "output_type": "stream",
     "text": [
      "Accuracy : 0.9575471698113207\n",
      "Precision : 0.9166666666666666\n",
      "Recall : 1.0\n",
      "F1 score : 0.9565217391304348\n"
     ]
    }
   ],
   "source": [
    "model.fit(X_train, y_train)\n",
    "\n",
    "y_pred = model.predict(X_test)\n",
    "\n",
    "accuracy = accuracy_score(y_test, y_pred)\n",
    "precision = precision_score(y_test, y_pred)\n",
    "recall = recall_score(y_test, y_pred)\n",
    "f1 = f1_score(y_test, y_pred)\n",
    "\n",
    "print('Accuracy : {}\\nPrecision : {}\\nRecall : {}\\nF1 score : {}'.format(accuracy, precision, recall, f1))"
   ]
  },
  {
   "cell_type": "markdown",
   "metadata": {
    "id": "yDP6PNQUtzJZ"
   },
   "source": [
    "We can see how much our scores got better when we balanced our dataset."
   ]
  },
  {
   "cell_type": "markdown",
   "metadata": {
    "id": "0kIR_0OOuehK"
   },
   "source": [
    "####Regularization with Hyperparameter Tuning"
   ]
  },
  {
   "cell_type": "markdown",
   "metadata": {
    "id": "r4JMLSS4uj-y"
   },
   "source": [
    "We will be tuning the hyperparameter C in the logistic regression model that we used. This hyperparameter represents regularization.\n",
    "<br><img src=\"https://equatio-api.texthelp.com/svg/C%5C%20%3D%5C%20%5Cfrac%7B1%7D%7B%5Clambda%7D\" alt=\"C equals 1 over lamda\">"
   ]
  },
  {
   "cell_type": "markdown",
   "metadata": {
    "id": "BJQlUrE3xf0G"
   },
   "source": [
    "The possible values of C will be: [0.1, 1, 10, 100, 1000]"
   ]
  },
  {
   "cell_type": "markdown",
   "metadata": {
    "id": "r46K-FU-0_N2"
   },
   "source": [
    "We will also know have to decide what type of regularization we will use: L1, or L2.\n",
    "\n",
    "Since we have several parameters to tune, we will be doing what we call a GridSearch, to search for the best model having the best pair of hyperparameters.\n",
    "We will be doing a 5 folds cross validation"
   ]
  },
  {
   "cell_type": "markdown",
   "metadata": {
    "id": "SIin4G7vxtTA"
   },
   "source": [
    "Note: Specify the solver='liblinear' in your LogisticRegression model, and this is because other solvers do not support L1 regularization."
   ]
  },
  {
   "cell_type": "markdown",
   "metadata": {
    "id": "Rib4gF9Dx-en"
   },
   "source": [
    "Print the best score and the best parameters"
   ]
  },
  {
   "cell_type": "code",
   "execution_count": 167,
   "metadata": {
    "id": "Jp_8fVD6u9YC"
   },
   "outputs": [
    {
     "name": "stdout",
     "output_type": "stream",
     "text": [
      "Best Score : 0.9823250957187609\n",
      "Best Parameters : {'C': 10, 'penalty': 'l1'}\n"
     ]
    }
   ],
   "source": [
    "model = LogisticRegression(solver='liblinear')\n",
    "\n",
    "param_grid = {'C': [0.1, 1, 10, 100, 1000], 'penalty': ['l1', 'l2']}\n",
    "\n",
    "grid_search = GridSearchCV(model, param_grid, cv=5, scoring='accuracy')\n",
    "\n",
    "grid_search.fit(X_train, y_train)\n",
    "\n",
    "print('Best Score : {}'.format(grid_search.best_score_))\n",
    "print('Best Parameters : {}'.format(grid_search.best_params_))"
   ]
  },
  {
   "cell_type": "markdown",
   "metadata": {
    "id": "ledU43xMviNL"
   },
   "source": [
    "Let's assess the model's performance in general for the best specified hyperparameters using the same metrics we used earlier."
   ]
  },
  {
   "cell_type": "code",
   "execution_count": 168,
   "metadata": {
    "id": "1mwc0KjxvoZe"
   },
   "outputs": [
    {
     "name": "stdout",
     "output_type": "stream",
     "text": [
      "Accuracy : 0.9669811320754716\n",
      "Precision : 0.9339622641509434\n",
      "Recall : 1.0\n",
      "F1 score : 0.9658536585365853\n"
     ]
    }
   ],
   "source": [
    "model = LogisticRegression(solver='liblinear', C=10, penalty='l1')\n",
    "model.fit(X_train, y_train)\n",
    "y_pred = model.predict(X_test)\n",
    "\n",
    "best_accuracy = accuracy_score(y_test, y_pred)\n",
    "best_precision = precision_score(y_test, y_pred)\n",
    "best_recall = recall_score(y_test, y_pred)\n",
    "best_f1 = f1_score(y_test, y_pred)\n",
    "\n",
    "print('Accuracy : {}\\nPrecision : {}\\nRecall : {}\\nF1 score : {}'.format(best_accuracy, best_precision, best_recall, best_f1))"
   ]
  },
  {
   "cell_type": "markdown",
   "metadata": {
    "id": "wwHhYH8zzcdt"
   },
   "source": [
    "We can see that the results improved compared to the last model we built."
   ]
  },
  {
   "cell_type": "markdown",
   "metadata": {
    "id": "Q4BLDv8hsAyM"
   },
   "source": [
    "####AdaBoost Classifier"
   ]
  },
  {
   "cell_type": "markdown",
   "metadata": {
    "id": "YFX7ljdRzruM"
   },
   "source": [
    "Now, we will work on improving our model, but this time through using ensemble methods, and what we will use for today is Adaboost.\n",
    "\n",
    "AdaBoost is a boosting ensemble method that relies on the boosting concepts that we learned about during the week.\n",
    "In Adaboost, each model is learning to correct the previous model's mistakes (misclassified examples). After that, each model will have a weight that depends on how well it performed on the training data. And after that, different results are aggregated based on weighted averaging."
   ]
  },
  {
   "cell_type": "markdown",
   "metadata": {
    "id": "5dTYTtsPyZ36"
   },
   "source": [
    "Create an AdaBoostClassifier Model from sklearn library with n_estimators=10, and fit it on the training data you have."
   ]
  },
  {
   "cell_type": "code",
   "execution_count": 169,
   "metadata": {
    "id": "xozI_6NvqWHu"
   },
   "outputs": [
    {
     "data": {
      "text/html": [
       "<style>#sk-container-id-12 {color: black;background-color: white;}#sk-container-id-12 pre{padding: 0;}#sk-container-id-12 div.sk-toggleable {background-color: white;}#sk-container-id-12 label.sk-toggleable__label {cursor: pointer;display: block;width: 100%;margin-bottom: 0;padding: 0.3em;box-sizing: border-box;text-align: center;}#sk-container-id-12 label.sk-toggleable__label-arrow:before {content: \"▸\";float: left;margin-right: 0.25em;color: #696969;}#sk-container-id-12 label.sk-toggleable__label-arrow:hover:before {color: black;}#sk-container-id-12 div.sk-estimator:hover label.sk-toggleable__label-arrow:before {color: black;}#sk-container-id-12 div.sk-toggleable__content {max-height: 0;max-width: 0;overflow: hidden;text-align: left;background-color: #f0f8ff;}#sk-container-id-12 div.sk-toggleable__content pre {margin: 0.2em;color: black;border-radius: 0.25em;background-color: #f0f8ff;}#sk-container-id-12 input.sk-toggleable__control:checked~div.sk-toggleable__content {max-height: 200px;max-width: 100%;overflow: auto;}#sk-container-id-12 input.sk-toggleable__control:checked~label.sk-toggleable__label-arrow:before {content: \"▾\";}#sk-container-id-12 div.sk-estimator input.sk-toggleable__control:checked~label.sk-toggleable__label {background-color: #d4ebff;}#sk-container-id-12 div.sk-label input.sk-toggleable__control:checked~label.sk-toggleable__label {background-color: #d4ebff;}#sk-container-id-12 input.sk-hidden--visually {border: 0;clip: rect(1px 1px 1px 1px);clip: rect(1px, 1px, 1px, 1px);height: 1px;margin: -1px;overflow: hidden;padding: 0;position: absolute;width: 1px;}#sk-container-id-12 div.sk-estimator {font-family: monospace;background-color: #f0f8ff;border: 1px dotted black;border-radius: 0.25em;box-sizing: border-box;margin-bottom: 0.5em;}#sk-container-id-12 div.sk-estimator:hover {background-color: #d4ebff;}#sk-container-id-12 div.sk-parallel-item::after {content: \"\";width: 100%;border-bottom: 1px solid gray;flex-grow: 1;}#sk-container-id-12 div.sk-label:hover label.sk-toggleable__label {background-color: #d4ebff;}#sk-container-id-12 div.sk-serial::before {content: \"\";position: absolute;border-left: 1px solid gray;box-sizing: border-box;top: 0;bottom: 0;left: 50%;z-index: 0;}#sk-container-id-12 div.sk-serial {display: flex;flex-direction: column;align-items: center;background-color: white;padding-right: 0.2em;padding-left: 0.2em;position: relative;}#sk-container-id-12 div.sk-item {position: relative;z-index: 1;}#sk-container-id-12 div.sk-parallel {display: flex;align-items: stretch;justify-content: center;background-color: white;position: relative;}#sk-container-id-12 div.sk-item::before, #sk-container-id-12 div.sk-parallel-item::before {content: \"\";position: absolute;border-left: 1px solid gray;box-sizing: border-box;top: 0;bottom: 0;left: 50%;z-index: -1;}#sk-container-id-12 div.sk-parallel-item {display: flex;flex-direction: column;z-index: 1;position: relative;background-color: white;}#sk-container-id-12 div.sk-parallel-item:first-child::after {align-self: flex-end;width: 50%;}#sk-container-id-12 div.sk-parallel-item:last-child::after {align-self: flex-start;width: 50%;}#sk-container-id-12 div.sk-parallel-item:only-child::after {width: 0;}#sk-container-id-12 div.sk-dashed-wrapped {border: 1px dashed gray;margin: 0 0.4em 0.5em 0.4em;box-sizing: border-box;padding-bottom: 0.4em;background-color: white;}#sk-container-id-12 div.sk-label label {font-family: monospace;font-weight: bold;display: inline-block;line-height: 1.2em;}#sk-container-id-12 div.sk-label-container {text-align: center;}#sk-container-id-12 div.sk-container {/* jupyter's `normalize.less` sets `[hidden] { display: none; }` but bootstrap.min.css set `[hidden] { display: none !important; }` so we also need the `!important` here to be able to override the default hidden behavior on the sphinx rendered scikit-learn.org. See: https://github.com/scikit-learn/scikit-learn/issues/21755 */display: inline-block !important;position: relative;}#sk-container-id-12 div.sk-text-repr-fallback {display: none;}</style><div id=\"sk-container-id-12\" class=\"sk-top-container\"><div class=\"sk-text-repr-fallback\"><pre>AdaBoostClassifier(n_estimators=10)</pre><b>In a Jupyter environment, please rerun this cell to show the HTML representation or trust the notebook. <br />On GitHub, the HTML representation is unable to render, please try loading this page with nbviewer.org.</b></div><div class=\"sk-container\" hidden><div class=\"sk-item\"><div class=\"sk-estimator sk-toggleable\"><input class=\"sk-toggleable__control sk-hidden--visually\" id=\"sk-estimator-id-12\" type=\"checkbox\" checked><label for=\"sk-estimator-id-12\" class=\"sk-toggleable__label sk-toggleable__label-arrow\">AdaBoostClassifier</label><div class=\"sk-toggleable__content\"><pre>AdaBoostClassifier(n_estimators=10)</pre></div></div></div></div></div>"
      ],
      "text/plain": [
       "AdaBoostClassifier(n_estimators=10)"
      ]
     },
     "execution_count": 169,
     "metadata": {},
     "output_type": "execute_result"
    }
   ],
   "source": [
    "ada_boost_model = AdaBoostClassifier(n_estimators=10)\n",
    "ada_boost_model.fit(X_train, y_train)"
   ]
  },
  {
   "cell_type": "markdown",
   "metadata": {
    "id": "l7kkGl10yjkN"
   },
   "source": [
    "Asses the performance of your model on the testing data, and compute the same metrics we computed earlier."
   ]
  },
  {
   "cell_type": "code",
   "execution_count": 170,
   "metadata": {
    "id": "V2EhqVjWsHfY"
   },
   "outputs": [
    {
     "name": "stdout",
     "output_type": "stream",
     "text": [
      "Accuracy : 0.9622641509433962\n",
      "Precision : 0.9333333333333333\n",
      "Recall : 0.98989898989899\n",
      "F1 score : 0.9607843137254903\n"
     ]
    }
   ],
   "source": [
    "y_pred = ada_boost_model.predict(X_test)\n",
    "\n",
    "adab_accuracy = accuracy_score(y_test, y_pred)\n",
    "adab_precision = precision_score(y_test, y_pred)\n",
    "adab_recall = recall_score(y_test, y_pred)\n",
    "adab_f1 = f1_score(y_test, y_pred)\n",
    "\n",
    "print('Accuracy : {}\\nPrecision : {}\\nRecall : {}\\nF1 score : {}'.format(adab_accuracy, adab_precision, adab_recall, adab_f1))"
   ]
  },
  {
   "cell_type": "markdown",
   "metadata": {
    "id": "8sKli1DO0qol"
   },
   "source": [
    "**BONUS:** One thing you can try on your own, is to tune the Hyperparameters of the Adaboost algorithm, and build an even more powerful model :)"
   ]
  },
  {
   "cell_type": "code",
   "execution_count": 173,
   "metadata": {
    "id": "L61L4aJ5y626"
   },
   "outputs": [
    {
     "name": "stdout",
     "output_type": "stream",
     "text": [
      "Best Score : 0.9823320570831882\n",
      "Best Parameters : {'learning_rate': 0.1, 'n_estimators': 500}\n"
     ]
    }
   ],
   "source": [
    "par_grid={'n_estimators':[10, 50, 100, 200, 500],'learning_rate':[0.001, 0.01, 0.1]}\n",
    "\n",
    "grd_search = GridSearchCV(ada_boost_model, par_grid, cv=5, scoring='accuracy')\n",
    "\n",
    "grd_search.fit(X_train, y_train)\n",
    "\n",
    "print('Best Score : {}'.format(grd_search.best_score_))\n",
    "print('Best Parameters : {}'.format(grd_search.best_params_))"
   ]
  },
  {
   "cell_type": "code",
   "execution_count": 176,
   "metadata": {},
   "outputs": [
    {
     "name": "stdout",
     "output_type": "stream",
     "text": [
      "Accuracy : 0.9669811320754716\n",
      "Precision : 0.9423076923076923\n",
      "Recall : 0.98989898989899\n",
      "F1 score : 0.9655172413793104\n"
     ]
    }
   ],
   "source": [
    "ada_boost_model = AdaBoostClassifier(n_estimators=500, learning_rate=0.1)\n",
    "ada_boost_model.fit(X_train, y_train)\n",
    "y_pred = ada_boost_model.predict(X_test)\n",
    "\n",
    "best_adab_accuracy = accuracy_score(y_test, y_pred)\n",
    "best_adab_precision = precision_score(y_test, y_pred)\n",
    "best_adab_recall = recall_score(y_test, y_pred)\n",
    "best_adab_f1 = f1_score(y_test, y_pred)\n",
    "\n",
    "print('Accuracy : {}\\nPrecision : {}\\nRecall : {}\\nF1 score : {}'.format(best_adab_accuracy, best_adab_precision, best_adab_recall, best_adab_f1))"
   ]
  }
 ],
 "metadata": {
  "colab": {
   "provenance": []
  },
  "kernelspec": {
   "display_name": "Python 3 (ipykernel)",
   "language": "python",
   "name": "python3"
  },
  "language_info": {
   "codemirror_mode": {
    "name": "ipython",
    "version": 3
   },
   "file_extension": ".py",
   "mimetype": "text/x-python",
   "name": "python",
   "nbconvert_exporter": "python",
   "pygments_lexer": "ipython3",
   "version": "3.11.3"
  }
 },
 "nbformat": 4,
 "nbformat_minor": 1
}

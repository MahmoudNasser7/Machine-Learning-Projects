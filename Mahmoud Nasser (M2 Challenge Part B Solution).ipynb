{
 "cells": [
  {
   "cell_type": "markdown",
   "metadata": {
    "id": "bP9uQN0Q0-Wf"
   },
   "source": [
    "\n",
    "# Challenge of the Week: Gaussian Naive Bayes Classifier\n",
    "---\n",
    "© 2023, Zaka AI, Inc. All Rights Reserved.\n",
    "\n",
    "##**Case Study:** Iris Dataset\n",
    "\n",
    "**Objective:** The objective of this challenge is to make you know about Naive Bayes applied on Numerical Values.\n",
    "\n",
    "**DataSet Columns:**<br>\n",
    "*\t Petal Height\n",
    "*  Petal Width\n",
    "*  Sepal Height\n",
    "*  Sepal Width\n",
    "*  Target: The kind of the Iris flower (Virginica, Setosa, Versicolor)"
   ]
  },
  {
   "cell_type": "markdown",
   "metadata": {
    "id": "oHi57nVC1Yn2"
   },
   "source": [
    "# Importing Libraries"
   ]
  },
  {
   "cell_type": "markdown",
   "metadata": {
    "id": "nXaV5FCRD0Yt"
   },
   "source": [
    "Start by importing the necessary libraries. For this problem we need the following:\n",
    "\n",
    "\n",
    "*   Numpy: for numerical calculations\n",
    "*   Pandas: to deal with the dataset\n",
    "*   math: to work on the mathematical aspects of Naive Bayes\n",
    "\n"
   ]
  },
  {
   "cell_type": "code",
   "execution_count": 74,
   "metadata": {
    "id": "i3lTMdVK07ES"
   },
   "outputs": [],
   "source": [
    "import numpy as np\n",
    "import pandas as pd\n",
    "from math import sqrt, pi, exp\n",
    "from sklearn.preprocessing import LabelEncoder\n",
    "from sklearn.model_selection import train_test_split"
   ]
  },
  {
   "cell_type": "markdown",
   "metadata": {
    "id": "ntP2fLal1cGQ"
   },
   "source": [
    "# Loading the Dataset"
   ]
  },
  {
   "cell_type": "markdown",
   "metadata": {
    "id": "qGMF3f-KEexZ"
   },
   "source": [
    "Load the dataset in your environment. One thing to note is that the dataset you have does not include names for different columns. This is why you should name the columns by hand as ['Sepal Height', 'Sepal Width', 'Petal Height', 'Petal Width', 'Target']. Then don't forget to show the head of your dataset to get a better insight into it."
   ]
  },
  {
   "cell_type": "code",
   "execution_count": 75,
   "metadata": {
    "id": "BzNYyltN1X9R"
   },
   "outputs": [
    {
     "name": "stdout",
     "output_type": "stream",
     "text": [
      "<class 'pandas.core.frame.DataFrame'>\n",
      "RangeIndex: 150 entries, 0 to 149\n",
      "Data columns (total 5 columns):\n",
      " #   Column        Non-Null Count  Dtype  \n",
      "---  ------        --------------  -----  \n",
      " 0   Petal Height  150 non-null    float64\n",
      " 1   Petal Width   150 non-null    float64\n",
      " 2   Sepal Height  150 non-null    float64\n",
      " 3   Sepal Width   150 non-null    float64\n",
      " 4   Target        150 non-null    object \n",
      "dtypes: float64(4), object(1)\n",
      "memory usage: 6.0+ KB\n"
     ]
    }
   ],
   "source": [
    "data = pd.read_csv('iris.csv')\n",
    "data.columns = ['Petal Height', 'Petal Width', 'Sepal Height', 'Sepal Width', 'Target']\n",
    "data.info()"
   ]
  },
  {
   "cell_type": "markdown",
   "metadata": {
    "id": "KE5Znmrh5nW4"
   },
   "source": [
    "##Data Preprocessing"
   ]
  },
  {
   "cell_type": "markdown",
   "metadata": {
    "id": "d6cKCe7P7DYi"
   },
   "source": [
    "You may have noticed that the Target Column contains string values rather than numbers. This is why, you will Change the string values to numerical."
   ]
  },
  {
   "cell_type": "code",
   "execution_count": 76,
   "metadata": {
    "id": "H8eT9I255p7J"
   },
   "outputs": [
    {
     "data": {
      "text/plain": [
       "0    50\n",
       "1    50\n",
       "2    50\n",
       "Name: Target, dtype: int64"
      ]
     },
     "execution_count": 76,
     "metadata": {},
     "output_type": "execute_result"
    }
   ],
   "source": [
    "encoder = LabelEncoder()\n",
    "data['Target'] = encoder.fit_transform(data['Target'])\n",
    "data['Target'].value_counts()"
   ]
  },
  {
   "cell_type": "markdown",
   "metadata": {
    "id": "kqU9gnuF7exi"
   },
   "source": [
    "Make sure we have no null values, and if we have, remove them."
   ]
  },
  {
   "cell_type": "code",
   "execution_count": 77,
   "metadata": {
    "id": "qU1E0ppR7aK0"
   },
   "outputs": [
    {
     "data": {
      "text/plain": [
       "Petal Height    0\n",
       "Petal Width     0\n",
       "Sepal Height    0\n",
       "Sepal Width     0\n",
       "Target          0\n",
       "dtype: int64"
      ]
     },
     "execution_count": 77,
     "metadata": {},
     "output_type": "execute_result"
    }
   ],
   "source": [
    "data.isnull().sum()"
   ]
  },
  {
   "cell_type": "markdown",
   "metadata": {
    "id": "gN8Yei2k5e2i"
   },
   "source": [
    "#Naive Bayes"
   ]
  },
  {
   "cell_type": "markdown",
   "metadata": {
    "id": "_o7UadL-7zVD"
   },
   "source": [
    "##Finding different Classes"
   ]
  },
  {
   "cell_type": "markdown",
   "metadata": {
    "id": "i0dKEoLZ8Amr"
   },
   "source": [
    "First, find how many classes we have in our dataset (although it should always appear in the description of your dataset)"
   ]
  },
  {
   "cell_type": "code",
   "execution_count": 78,
   "metadata": {
    "id": "AgExYYDy72CK"
   },
   "outputs": [
    {
     "name": "stdout",
     "output_type": "stream",
     "text": [
      "We have 3 classes.\n"
     ]
    }
   ],
   "source": [
    "nb_of_classes = len(data['Target'].unique())\n",
    "print('We have {} classes.'.format(nb_of_classes))"
   ]
  },
  {
   "cell_type": "markdown",
   "metadata": {
    "id": "we8EBYvX8JrF"
   },
   "source": [
    "SO we have 3 classes of flowers."
   ]
  },
  {
   "cell_type": "markdown",
   "metadata": {
    "id": "myjWSPheAWa6"
   },
   "source": [
    "Remember the basic formula that we used for Naive Bayes. <br>\n",
    "<img src=\"https://equatio-api.texthelp.com/svg/%5C%20P(%5Ctextcolor%7B%232B7FBB%7D%7BClass%7D%7C%5Ctextcolor%7B%23E94D40%7D%7BFeatures%7D)%3D%5Cfrac%7BP(%5Ctextcolor%7B%23E94D40%7D%7BFeatures%7D%7C%5Ctextcolor%7B%232B7FBB%7D%7BClass%7D)%5Ccdot%20P%5Cleft(%5Ctextcolor%7B%232B7FBB%7D%7BClass%7D%5Cright)%7D%7BP(%5Ctextcolor%7B%23E94D40%7D%7BFeatures%7D)%7D\" alt=\"P of open paren C l a. s s divides F of e a. t u r e s close paren equals the fraction with numerator P of open paren F of e a. t u r e s divides C l a. s s close paren times P of open paren C l a. s s close paren and denominator P of F of e a. t u r e s\">"
   ]
  },
  {
   "cell_type": "markdown",
   "metadata": {
    "id": "D2UrbRnHAh_R"
   },
   "source": [
    "Since we have 3 classes, and 4 features, we need to calculate the following probabilities.<br>\n",
    "<img src=\"https://equatio-api.texthelp.com/svg/P(%5Ctextcolor%7B%232B7FBB%7D%7BClass_0%7D%7C%5Ctextcolor%7B%23E94D40%7D%7BF1%2CF2%2CF3%2CF4%7D)\" alt=\"P of open paren C l a. s s sub 0 divides F of 1 comma F of 2 comma F of 3 comma F of 4 close paren\"> <br>\n",
    "<img src=\"https://equatio-api.texthelp.com/svg/P(%5Ctextcolor%7B%232B7FBB%7D%7BClass_1%7D%7C%5Ctextcolor%7B%23E94D40%7D%7BF1%2CF2%2CF3%2CF4%7D)\" alt=\"P of open paren C l a. s s sub 1 divides F of 1 comma F of 2 comma F of 3 comma F of 4 close paren\"> <br>\n",
    "<img src=\"https://equatio-api.texthelp.com/svg/P(%5Ctextcolor%7B%232B7FBB%7D%7BClass_2%7D%7C%5Ctextcolor%7B%23E94D40%7D%7BF1%2CF2%2CF3%2CF4%7D)\" alt=\"P of open paren C l a. s s sub 2 divides F of 1 comma F of 2 comma F of 3 comma F of 4 close paren\">\n"
   ]
  },
  {
   "cell_type": "markdown",
   "metadata": {
    "id": "N1vv6PrLBdLg"
   },
   "source": [
    "So in reality we need to calculate the following:"
   ]
  },
  {
   "cell_type": "markdown",
   "metadata": {
    "id": "tfolDf1zBlGQ"
   },
   "source": [
    "<img src=\"https://equatio-api.texthelp.com/svg/P_0%3DP(%5Ctextcolor%7B%232B7FBB%7D%7B%5Ctextcolor%7B%23E94D40%7D%7BF_1%7D%7D%7C%5Ctextcolor%7B%23E94D40%7D%7B%5Ctextcolor%7B%232B7FBB%7D%7BClass_0%7D%7D)P(%5Ctextcolor%7B%232B7FBB%7D%7B%5Ctextcolor%7B%23E94D40%7D%7BF_2%7D%7D%7C%5Ctextcolor%7B%23E94D40%7D%7B%5Ctextcolor%7B%232B7FBB%7D%7BClass_0%7D%7D)P(%5Ctextcolor%7B%232B7FBB%7D%7B%5Ctextcolor%7B%23E94D40%7D%7BF_3%7D%7D%7C%5Ctextcolor%7B%23E94D40%7D%7B%5Ctextcolor%7B%232B7FBB%7D%7BClass_0%7D%7D)P(%5Ctextcolor%7B%232B7FBB%7D%7B%5Ctextcolor%7B%23E94D40%7D%7BF_4%7D%7D%7C%5Ctextcolor%7B%23E94D40%7D%7B%5Ctextcolor%7B%232B7FBB%7D%7BClass_0%7D%7D)\" alt=\"P sub 0 equals P of open paren F sub 1 divides C l a. s s sub 0 close paren P of open paren F sub 2 divides C l a. s s sub 0 close paren P of open paren F sub 3 divides C l a. s s sub 0 close paren P of open paren F sub 4 divides C l a. s s sub 0 close paren\"><img src=\"https://equatio-api.texthelp.com/svg/P%5Cleft(%5Ctextcolor%7B%232B7FBB%7D%7BClass_0%7D%5Cright)\" alt=\"P of open paren C l a. s s sub 0 close paren\"><br><img src=\"https://equatio-api.texthelp.com/svg/P_1%3DP(%5Ctextcolor%7B%232B7FBB%7D%7B%5Ctextcolor%7B%23E94D40%7D%7BF_1%7D%7D%7C%5Ctextcolor%7B%23E94D40%7D%7B%5Ctextcolor%7B%232B7FBB%7D%7BClass_1%7D%7D)P(%5Ctextcolor%7B%232B7FBB%7D%7B%5Ctextcolor%7B%23E94D40%7D%7BF_2%7D%7D%7C%5Ctextcolor%7B%23E94D40%7D%7B%5Ctextcolor%7B%232B7FBB%7D%7BClass_1%7D%7D)P(%5Ctextcolor%7B%232B7FBB%7D%7B%5Ctextcolor%7B%23E94D40%7D%7BF_3%7D%7D%7C%5Ctextcolor%7B%23E94D40%7D%7B%5Ctextcolor%7B%232B7FBB%7D%7BClass_1%7D%7D)P(%5Ctextcolor%7B%232B7FBB%7D%7B%5Ctextcolor%7B%23E94D40%7D%7BF_4%7D%7D%7C%5Ctextcolor%7B%23E94D40%7D%7B%5Ctextcolor%7B%232B7FBB%7D%7BClass_1%7D%7D)\" alt=\"P sub 1 equals P of open paren F sub 1 divides C l a. s s sub 1 close paren P of open paren F sub 2 divides C l a. s s sub 1 close paren P of open paren F sub 3 divides C l a. s s sub 1 close paren P of open paren F sub 4 divides C l a. s s sub 1 close paren\"><img src=\"https://equatio-api.texthelp.com/svg/P%5Cleft(%5Ctextcolor%7B%232B7FBB%7D%7BClass_1%7D%5Cright)\" alt=\"P of open paren C l a. s s sub 1 close paren\"><br>\n",
    "<img src=\"https://equatio-api.texthelp.com/svg/P_2%3DP(%5Ctextcolor%7B%232B7FBB%7D%7B%5Ctextcolor%7B%23E94D40%7D%7BF_1%7D%7D%7C%5Ctextcolor%7B%23E94D40%7D%7B%5Ctextcolor%7B%232B7FBB%7D%7BClass_2%7D%7D)P(%5Ctextcolor%7B%232B7FBB%7D%7B%5Ctextcolor%7B%23E94D40%7D%7BF_2%7D%7D%7C%5Ctextcolor%7B%23E94D40%7D%7B%5Ctextcolor%7B%232B7FBB%7D%7BClass_2%7D%7D)P(%5Ctextcolor%7B%232B7FBB%7D%7B%5Ctextcolor%7B%23E94D40%7D%7BF_3%7D%7D%7C%5Ctextcolor%7B%23E94D40%7D%7B%5Ctextcolor%7B%232B7FBB%7D%7BClass_2%7D%7D)P(%5Ctextcolor%7B%232B7FBB%7D%7B%5Ctextcolor%7B%23E94D40%7D%7BF_4%7D%7D%7C%5Ctextcolor%7B%23E94D40%7D%7B%5Ctextcolor%7B%232B7FBB%7D%7BClass_2%7D%7D)P%5Cleft(%5Ctextcolor%7B%232B7FBB%7D%7BClass_2%7D%5Cright)\" alt=\"P sub 2 equals P of open paren F sub 1 divides C l a. s s sub 2 close paren P of open paren F sub 2 divides C l a. s s sub 2 close paren P of open paren F sub 3 divides C l a. s s sub 2 close paren P of open paren F sub 4 divides C l a. s s sub 2 close paren P of open paren C l a. s s sub 2 close paren\">\n",
    "\n"
   ]
  },
  {
   "cell_type": "markdown",
   "metadata": {
    "id": "HWodfMQv05nc"
   },
   "source": [
    "We see which one is the greatest, and based on that we assign the class."
   ]
  },
  {
   "cell_type": "markdown",
   "metadata": {
    "id": "Q-YKGe4Q0mjD"
   },
   "source": [
    "Those probabilities will be approximated using a distribution.\n",
    "In this example, we will use the Gaussien Distribution."
   ]
  },
  {
   "cell_type": "markdown",
   "metadata": {
    "id": "fAcatx6x1A2L"
   },
   "source": [
    "##Gaussian Probability Density Function"
   ]
  },
  {
   "cell_type": "markdown",
   "metadata": {
    "id": "_oj_NOLW1J-E"
   },
   "source": [
    "We recall that teh Gaussien Probability density function is given by:\n",
    "<br>\n",
    "<img src=\"https://equatio-api.texthelp.com/svg/f%5Cleft(x%5Cright)%3D%5Cfrac%7B1%7D%7B%5Csqrt%7B2%5Cpi%7D%5Ctextcolor%7B%238D44AD%7D%7B%5Csigma%7D%7D%5Cexp%5Cleft%5C%7B-%5Cfrac%7B%5Cleft(x-%5Ctextcolor%7B%233697DC%7D%7Bmean%7D%5Cright)%5E2%7D%7B2%5Ctextcolor%7B%238D44AD%7D%7B%5Csigma%7D%5E2%7D%5Cright%5C%7D\" alt=\"f of x equals 1 over the square root of 2 pi sigma the exp of open brace negative the fraction with numerator open paren x minus m e a. n close paren squared and denominator 2 sigma squared close brace\">"
   ]
  },
  {
   "cell_type": "markdown",
   "metadata": {
    "id": "4A32D5STGrzX"
   },
   "source": [
    "Write a function that computes the probability using the formula above"
   ]
  },
  {
   "cell_type": "code",
   "execution_count": 79,
   "metadata": {
    "id": "lZnRXZJA01nM"
   },
   "outputs": [],
   "source": [
    "def gaussian_proba (x, mean, stdev):\n",
    "    proba =  (1/(stdev*sqrt(2*pi))) * (exp(-((x-mean)**2)/(2*stdev**2)))\n",
    "    return proba"
   ]
  },
  {
   "cell_type": "markdown",
   "metadata": {
    "id": "PMpZQUyE1EnS"
   },
   "source": [
    "##Naive Bayes Implementation"
   ]
  },
  {
   "cell_type": "markdown",
   "metadata": {
    "id": "yTp5JrZUHg1Z"
   },
   "source": [
    "Write a naive bayes function that receives as input the dataframe df, the features, and the target name, and it returns the predicted class as output."
   ]
  },
  {
   "cell_type": "code",
   "execution_count": 80,
   "metadata": {
    "id": "b-8D3Rxq_pbr"
   },
   "outputs": [],
   "source": [
    "def naive_bayes (df, features, target_name):\n",
    "    \n",
    "    n_examples = float(len(df))\n",
    "    n_features = features.shape[0]\n",
    "\n",
    "    class_0 = df[df[target_name]==0]\n",
    "    class_1 = df[df[target_name]==1]\n",
    "    class_2 = df[df[target_name]==2]\n",
    "\n",
    "    p_class_0 = len(class_0) / n_examples\n",
    "    p_class_1 = len(class_1) / n_examples\n",
    "    p_class_2 = len(class_2) / n_examples\n",
    "\n",
    "    std_given_0 = np.std(class_0, axis=0)\n",
    "    std_given_1 = np.std(class_1, axis=0)\n",
    "    std_given_2 = np.std(class_2, axis=0) \n",
    "\n",
    "    mean_given_0 = np.mean(class_0, axis=0)\n",
    "    mean_given_1 = np.mean(class_1, axis=0)\n",
    "    mean_given_2 = np.mean(class_2, axis=0) \n",
    "\n",
    "    p_f_given_0 =[]\n",
    "    p_f_given_1 =[]\n",
    "    p_f_given_2 =[]\n",
    "\n",
    "    for i in range(n_features):\n",
    "        p_given_0 = gaussian_proba(features[i], mean_given_0[i], std_given_0[i])\n",
    "        p_f_given_0.append(p_given_0)\n",
    "\n",
    "        p_given_1 = gaussian_proba(features[i], mean_given_1[i], std_given_1[i])\n",
    "        p_f_given_1.append(p_given_1)\n",
    "\n",
    "        p_given_2 = gaussian_proba(features[i], mean_given_2[i], std_given_2[i])\n",
    "        p_f_given_2.append(p_given_2)\n",
    "\n",
    "    p0 = np.prod(p_f_given_0)*p_class_0\n",
    "    p1 = np.prod(p_f_given_1)*p_class_1\n",
    "    p2 = np.prod(p_f_given_2)*p_class_2 \n",
    "\n",
    "    return np.argmax([p0, p1, p2])"
   ]
  },
  {
   "cell_type": "markdown",
   "metadata": {
    "id": "GWXRIkmoGDyV"
   },
   "source": [
    "Test Naive Bayes with a prediction."
   ]
  },
  {
   "cell_type": "markdown",
   "metadata": {
    "id": "iYjRWvNwIAlV"
   },
   "source": [
    "Get the corresponding class for a flower having the following features [4.9, 3.0,\t1.4,\t0.2]."
   ]
  },
  {
   "cell_type": "code",
   "execution_count": 81,
   "metadata": {
    "id": "z-Q66_iiH4FL"
   },
   "outputs": [
    {
     "name": "stdout",
     "output_type": "stream",
     "text": [
      "Class : 0\n"
     ]
    }
   ],
   "source": [
    "features = np.array([4.9, 3.0, 1.4, 0.2])\n",
    "result = naive_bayes(data, features, 'Target')\n",
    "print('Class : {}'.format(result))"
   ]
  },
  {
   "cell_type": "markdown",
   "metadata": {
    "id": "LSylYkiz15zU"
   },
   "source": [
    "See the performance of our NB model"
   ]
  },
  {
   "cell_type": "markdown",
   "metadata": {
    "id": "GCvhS9H04sku"
   },
   "source": [
    "Now here we will splot our data between 2 sets:\n",
    "\n",
    "*   One from which the Naive Bayes Model will take the probabilities. (The **old** set) 80%\n",
    "*   one that it hasn't seen before to test on it (The **new** set) 20%"
   ]
  },
  {
   "cell_type": "code",
   "execution_count": 86,
   "metadata": {
    "id": "C5UUqMI24XTH"
   },
   "outputs": [],
   "source": [
    "X = data.drop('Target',axis=1)\n",
    "y = data['Target']\n",
    "\n",
    "X_old, X_new, y_old, y_new = train_test_split(X, y, test_size=0.2, random_state=42)"
   ]
  },
  {
   "cell_type": "markdown",
   "metadata": {
    "id": "blWBczqaIeMR"
   },
   "source": [
    "Now use the function you built and get the corresponding testing predictions, and then compute the accuracy of your model."
   ]
  },
  {
   "cell_type": "code",
   "execution_count": 87,
   "metadata": {
    "id": "0qEvL2Rv1r8Z"
   },
   "outputs": [
    {
     "name": "stdout",
     "output_type": "stream",
     "text": [
      "Accuracy : 1.0\n"
     ]
    }
   ],
   "source": [
    "old_set = pd.concat([X_old, y_old], axis=1)\n",
    "errors = 0\n",
    "\n",
    "for i in range(len(X_new)):\n",
    "    y_pred = naive_bayes(old_set, X_new.iloc[i,:], 'Target')\n",
    "    if y_pred!=y_new.iloc[i]:\n",
    "        errors +=1 \n",
    "\n",
    "accuracy = (len(X_new) - errors) / len(X_new)\n",
    "print('Accuracy : {}'.format(accuracy))"
   ]
  },
  {
   "cell_type": "code",
   "execution_count": null,
   "metadata": {},
   "outputs": [],
   "source": []
  }
 ],
 "metadata": {
  "colab": {
   "provenance": []
  },
  "kernelspec": {
   "display_name": "Python 3 (ipykernel)",
   "language": "python",
   "name": "python3"
  },
  "language_info": {
   "codemirror_mode": {
    "name": "ipython",
    "version": 3
   },
   "file_extension": ".py",
   "mimetype": "text/x-python",
   "name": "python",
   "nbconvert_exporter": "python",
   "pygments_lexer": "ipython3",
   "version": "3.11.3"
  }
 },
 "nbformat": 4,
 "nbformat_minor": 1
}
